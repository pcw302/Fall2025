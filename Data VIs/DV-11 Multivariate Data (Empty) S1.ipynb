{
 "cells": [
  {
   "cell_type": "code",
   "execution_count": 1,
   "id": "ef504887",
   "metadata": {},
   "outputs": [],
   "source": [
    "import numpy as np\n",
    "import pandas as pd\n",
    "import seaborn as sns\n",
    "import matplotlib.pyplot as plt"
   ]
  },
  {
   "cell_type": "code",
   "execution_count": 2,
   "id": "dffe22d6",
   "metadata": {},
   "outputs": [],
   "source": [
    "# Finnish lakes data\n",
    "lake = pd.read_csv('Data/Lake Data.txt', sep = '\\t')"
   ]
  },
  {
   "cell_type": "code",
   "execution_count": 4,
   "id": "de3d8b30",
   "metadata": {},
   "outputs": [
    {
     "data": {
      "text/html": [
       "<div>\n",
       "<style scoped>\n",
       "    .dataframe tbody tr th:only-of-type {\n",
       "        vertical-align: middle;\n",
       "    }\n",
       "\n",
       "    .dataframe tbody tr th {\n",
       "        vertical-align: top;\n",
       "    }\n",
       "\n",
       "    .dataframe thead th {\n",
       "        text-align: right;\n",
       "    }\n",
       "</style>\n",
       "<table border=\"1\" class=\"dataframe\">\n",
       "  <thead>\n",
       "    <tr style=\"text-align: right;\">\n",
       "      <th></th>\n",
       "      <th>Number</th>\n",
       "      <th>TP</th>\n",
       "      <th>Status</th>\n",
       "      <th>TN</th>\n",
       "      <th>TN.TP</th>\n",
       "      <th>Chl.a</th>\n",
       "      <th>pH</th>\n",
       "      <th>Secchi.Depth</th>\n",
       "      <th>Temperature</th>\n",
       "      <th>Latitude</th>\n",
       "      <th>Longitude</th>\n",
       "      <th>Cyanobacteria</th>\n",
       "      <th>Anabaena</th>\n",
       "      <th>Microcystis</th>\n",
       "      <th>MicrocystisDicot</th>\n",
       "    </tr>\n",
       "  </thead>\n",
       "  <tbody>\n",
       "    <tr>\n",
       "      <th>0</th>\n",
       "      <td>12</td>\n",
       "      <td>24</td>\n",
       "      <td>Mesotrophic</td>\n",
       "      <td>440</td>\n",
       "      <td>11.0</td>\n",
       "      <td>12.0</td>\n",
       "      <td>8.0</td>\n",
       "      <td>2.2</td>\n",
       "      <td>20.4</td>\n",
       "      <td>61.01</td>\n",
       "      <td>22.12</td>\n",
       "      <td>0.0480</td>\n",
       "      <td>0.003</td>\n",
       "      <td>0.000</td>\n",
       "      <td>No</td>\n",
       "    </tr>\n",
       "    <tr>\n",
       "      <th>1</th>\n",
       "      <td>54</td>\n",
       "      <td>20</td>\n",
       "      <td>Mesotrophic</td>\n",
       "      <td>840</td>\n",
       "      <td>42.0</td>\n",
       "      <td>18.0</td>\n",
       "      <td>6.9</td>\n",
       "      <td>1.2</td>\n",
       "      <td>18.8</td>\n",
       "      <td>61.46</td>\n",
       "      <td>23.02</td>\n",
       "      <td>0.2184</td>\n",
       "      <td>0.058</td>\n",
       "      <td>0.000</td>\n",
       "      <td>No</td>\n",
       "    </tr>\n",
       "    <tr>\n",
       "      <th>2</th>\n",
       "      <td>15</td>\n",
       "      <td>8</td>\n",
       "      <td>Oligotrophic</td>\n",
       "      <td>370</td>\n",
       "      <td>46.3</td>\n",
       "      <td>3.2</td>\n",
       "      <td>7.0</td>\n",
       "      <td>5.3</td>\n",
       "      <td>18.5</td>\n",
       "      <td>61.03</td>\n",
       "      <td>23.15</td>\n",
       "      <td>0.0165</td>\n",
       "      <td>0.002</td>\n",
       "      <td>0.000</td>\n",
       "      <td>No</td>\n",
       "    </tr>\n",
       "    <tr>\n",
       "      <th>3</th>\n",
       "      <td>23</td>\n",
       "      <td>67</td>\n",
       "      <td>Eutrophic</td>\n",
       "      <td>990</td>\n",
       "      <td>14.8</td>\n",
       "      <td>36.0</td>\n",
       "      <td>7.4</td>\n",
       "      <td>0.4</td>\n",
       "      <td>19.4</td>\n",
       "      <td>61.24</td>\n",
       "      <td>23.19</td>\n",
       "      <td>0.0718</td>\n",
       "      <td>0.000</td>\n",
       "      <td>0.000</td>\n",
       "      <td>No</td>\n",
       "    </tr>\n",
       "    <tr>\n",
       "      <th>4</th>\n",
       "      <td>44</td>\n",
       "      <td>39</td>\n",
       "      <td>Eutrophic</td>\n",
       "      <td>810</td>\n",
       "      <td>20.8</td>\n",
       "      <td>26.0</td>\n",
       "      <td>8.9</td>\n",
       "      <td>0.5</td>\n",
       "      <td>20.1</td>\n",
       "      <td>60.50</td>\n",
       "      <td>23.29</td>\n",
       "      <td>0.3256</td>\n",
       "      <td>0.070</td>\n",
       "      <td>0.018</td>\n",
       "      <td>Yes</td>\n",
       "    </tr>\n",
       "  </tbody>\n",
       "</table>\n",
       "</div>"
      ],
      "text/plain": [
       "   Number  TP        Status   TN  TN.TP  Chl.a   pH  Secchi.Depth  \\\n",
       "0      12  24   Mesotrophic  440   11.0   12.0  8.0           2.2   \n",
       "1      54  20   Mesotrophic  840   42.0   18.0  6.9           1.2   \n",
       "2      15   8  Oligotrophic  370   46.3    3.2  7.0           5.3   \n",
       "3      23  67     Eutrophic  990   14.8   36.0  7.4           0.4   \n",
       "4      44  39     Eutrophic  810   20.8   26.0  8.9           0.5   \n",
       "\n",
       "   Temperature  Latitude  Longitude  Cyanobacteria  Anabaena  Microcystis  \\\n",
       "0         20.4     61.01      22.12         0.0480     0.003        0.000   \n",
       "1         18.8     61.46      23.02         0.2184     0.058        0.000   \n",
       "2         18.5     61.03      23.15         0.0165     0.002        0.000   \n",
       "3         19.4     61.24      23.19         0.0718     0.000        0.000   \n",
       "4         20.1     60.50      23.29         0.3256     0.070        0.018   \n",
       "\n",
       "  MicrocystisDicot  \n",
       "0               No  \n",
       "1               No  \n",
       "2               No  \n",
       "3               No  \n",
       "4              Yes  "
      ]
     },
     "execution_count": 4,
     "metadata": {},
     "output_type": "execute_result"
    }
   ],
   "source": [
    "lake.head()"
   ]
  },
  {
   "cell_type": "markdown",
   "id": "9dacafc5",
   "metadata": {},
   "source": [
    "## Bivariate correlations bewteen numeric variables"
   ]
  },
  {
   "cell_type": "code",
   "execution_count": 5,
   "id": "6323a985",
   "metadata": {},
   "outputs": [
    {
     "data": {
      "text/plain": [
       "<Axes: >"
      ]
     },
     "execution_count": 5,
     "metadata": {},
     "output_type": "execute_result"
    },
    {
     "data": {
      "image/png": "[encoded data removed]",
      "text/plain": [
       "<Figure size 640x480 with 2 Axes>"
      ]
     },
     "metadata": {},
     "output_type": "display_data"
    }
   ],
   "source": [
    "# Create a heatmap using the correlation coefficient of all the numeric variables\n",
    "lake_subset = lake[['TP', 'TN', 'Chl.a', 'pH', 'Secchi.Depth', 'Temperature']]\n",
    "c = lake_subset.corr()\n",
    "sns.heatmap(c)"
   ]
  },
  {
   "cell_type": "code",
   "execution_count": 32,
   "id": "cbfea952",
   "metadata": {},
   "outputs": [
    {
     "data": {
      "image/png": "[encoded data removed]",
      "text/plain": [
       "<Figure size 1000x600 with 2 Axes>"
      ]
     },
     "metadata": {},
     "output_type": "display_data"
    }
   ],
   "source": [
    "# Let's fix the heatmap\n",
    "# We want values in the middle, bolded.\n",
    "# Show just the lower triangular matrix.\n",
    "# Pick a colormap.\n",
    "# Play with the 'cbar_kws'.\n",
    "# 'linewidth' sets the gap between rows.\n",
    "plt.figure(figsize = [10,6])\n",
    "mask = np.triu(c)\n",
    "# print(mask)\n",
    "sns.heatmap(\n",
    "    c,\n",
    "    annot = True,\n",
    "    mask = mask,\n",
    "    cmap = 'coolwarm',\n",
    "    vmin = -1,\n",
    "    vmax = 1,\n",
    "    annot_kws = {'weight' : 'bold'},\n",
    "    linewidth = 0.5,\n",
    "    cbar_kws={'shrink':0.75,\n",
    "              'aspect':30,\n",
    "              'anchor':(-0.5,0.2)\n",
    "     }\n",
    "    \n",
    ")\n",
    "# Let's fix the labels \n",
    "# We can make the font larger and remove the redundant labels\n",
    "ax = plt.gca()\n",
    "ax.set_yticks(ax.get_yticks()[1:], labels = c.columns[1:], size = 14)\n",
    "ax.set_xticks(ax.get_xticks()[:-1], labels = c.columns[:-1], size = 14)\n",
    "\n",
    "# Format the colorbar\n",
    "# Make the colorbar smaller\n",
    "\n",
    "\n",
    "plt.show()"
   ]
  },
  {
   "cell_type": "markdown",
   "id": "b1422a44",
   "metadata": {},
   "source": [
    "# Scatterplots"
   ]
  },
  {
   "cell_type": "code",
   "execution_count": 6,
   "id": "d984061d",
   "metadata": {},
   "outputs": [
    {
     "data": {
      "text/plain": [
       "<Figure size 800x600 with 0 Axes>"
      ]
     },
     "execution_count": 6,
     "metadata": {},
     "output_type": "execute_result"
    },
    {
     "data": {
      "text/plain": [
       "<Figure size 800x600 with 0 Axes>"
      ]
     },
     "metadata": {},
     "output_type": "display_data"
    }
   ],
   "source": [
    "# Create a scatterplot using 'TN' and 'TP'.\n",
    "# See if we can differentiate 'number = 44'.\n",
    "plt.figure(figsize = [8,6])\n",
    "\n",
    "# plt.show()"
   ]
  },
  {
   "cell_type": "markdown",
   "id": "62896fcf",
   "metadata": {},
   "source": [
    "## What if we want to shade in points by trophic status?"
   ]
  },
  {
   "cell_type": "markdown",
   "id": "6bd59c60",
   "metadata": {},
   "source": [
    "Consider the code below and the scatterplot it attempts to make. Based on what you see, answer the questions.\n",
    " \n",
    "1) Look at the code for the legend: How did we get the entries to appear horizontally? What happens if you change markerscale to 4? What if you change handletextpad to 10? How do we center the legend?  \n",
    "2) How do we add a vertical or horizontal line to the plot?  \n",
    "3) Why are there blank points instead of circled points? Consider the logic of drawing circles around the points with the code as written.  "
   ]
  },
  {
   "cell_type": "code",
   "execution_count": 7,
   "id": "d3d41180",
   "metadata": {},
   "outputs": [
    {
     "data": {
      "text/plain": [
       "<Figure size 800x600 with 0 Axes>"
      ]
     },
     "execution_count": 7,
     "metadata": {},
     "output_type": "execute_result"
    },
    {
     "data": {
      "text/plain": [
       "<Figure size 800x600 with 0 Axes>"
      ]
     },
     "metadata": {},
     "output_type": "display_data"
    }
   ],
   "source": [
    "# How do these relate to lake status? We'd like to shade in the points by group\n",
    "plt.figure(figsize = [8,6])\n",
    "\n",
    "\n",
    "# Plot the points\n",
    "\n",
    "\n",
    "# Suppose I really, really care about lakes that have microcystis and I want to put a circle around these\n",
    "\n",
    "\n",
    "\n",
    "# Format the legend\n",
    "\n",
    "\n",
    "# I'd like to add a line for the mean of TN and TP\n",
    "# https://matplotlib.org/stable/gallery/lines_bars_and_markers/linestyles.html\n",
    "\n",
    "\n",
    "# Save the plot\n",
    "# plt.savefig('Images/Scatter.png',bbox_inches='tight',facecolor='white')\n",
    "# plt.show()"
   ]
  },
  {
   "cell_type": "markdown",
   "id": "6cd37da6",
   "metadata": {},
   "source": [
    "## Making a grid of scatterplots"
   ]
  },
  {
   "cell_type": "markdown",
   "id": "3d4f9f44",
   "metadata": {},
   "source": [
    "Consider the code below and the scatterplot it attempts to make. Based on what you see, answer the questions.\n",
    "\n",
    "1) How does the loop work? How does it know where to put each plot and which variables to use?  \n",
    "2) What does wspace: 0.2 do?  \n",
    "3) What does the if i > 1 conditional do?  \n",
    "4) What does the if i != 1 conditional do?   \n",
    "5) What does f.transFigure do in the legend code?  \n",
    "6) Should we set all of the x-axis scales and y-axis scales to be the same on all plots?  "
   ]
  },
  {
   "cell_type": "code",
   "execution_count": 8,
   "id": "c94db216",
   "metadata": {},
   "outputs": [],
   "source": [
    "# Create 4 scatterplots in a 2*2 grid, using 'TP', 'Chl.a', 'Secchi.Depth', and 'pH' as y-axis and 'TN' as x-axis.\n",
    "\n",
    "# print(axes)\n",
    "\n",
    "\n",
    "\n",
    "# Loop to create the plots\n",
    "    \n",
    "    \n",
    "    # What does this do?\n",
    "    \n",
    "    \n",
    "    # What does this do?\n",
    "    \n",
    "        \n",
    "# plt.savefig('Images/GridScatter.png',bbox_inches = 'tight',facecolor='white')\n",
    "# plt.show()"
   ]
  },
  {
   "cell_type": "markdown",
   "id": "2458ade1",
   "metadata": {},
   "source": [
    "# Parallel Coordinates Plot"
   ]
  },
  {
   "cell_type": "code",
   "execution_count": 9,
   "id": "8de1c8af",
   "metadata": {},
   "outputs": [],
   "source": [
    "from pandas.plotting import parallel_coordinates as pcp\n",
    "from matplotlib.patches import Patch"
   ]
  },
  {
   "cell_type": "markdown",
   "id": "5ff62234",
   "metadata": {},
   "source": [
    "## Different data set"
   ]
  },
  {
   "cell_type": "code",
   "execution_count": 10,
   "id": "ec6ed200",
   "metadata": {},
   "outputs": [
    {
     "data": {
      "text/html": [
       "<div>\n",
       "<style scoped>\n",
       "    .dataframe tbody tr th:only-of-type {\n",
       "        vertical-align: middle;\n",
       "    }\n",
       "\n",
       "    .dataframe tbody tr th {\n",
       "        vertical-align: top;\n",
       "    }\n",
       "\n",
       "    .dataframe thead th {\n",
       "        text-align: right;\n",
       "    }\n",
       "</style>\n",
       "<table border=\"1\" class=\"dataframe\">\n",
       "  <thead>\n",
       "    <tr style=\"text-align: right;\">\n",
       "      <th></th>\n",
       "      <th>Streptococcus</th>\n",
       "      <th>Veillonella</th>\n",
       "      <th>Prevotella</th>\n",
       "      <th>Pseudomonas</th>\n",
       "      <th>Staphylococcus</th>\n",
       "      <th>CF</th>\n",
       "    </tr>\n",
       "  </thead>\n",
       "  <tbody>\n",
       "    <tr>\n",
       "      <th>0</th>\n",
       "      <td>0.69</td>\n",
       "      <td>0.1023</td>\n",
       "      <td>0.2077</td>\n",
       "      <td>0.00</td>\n",
       "      <td>0.00</td>\n",
       "      <td>COPD</td>\n",
       "    </tr>\n",
       "    <tr>\n",
       "      <th>1</th>\n",
       "      <td>0.66</td>\n",
       "      <td>0.1122</td>\n",
       "      <td>0.2278</td>\n",
       "      <td>0.00</td>\n",
       "      <td>0.00</td>\n",
       "      <td>COPD</td>\n",
       "    </tr>\n",
       "    <tr>\n",
       "      <th>2</th>\n",
       "      <td>0.74</td>\n",
       "      <td>0.0759</td>\n",
       "      <td>0.1541</td>\n",
       "      <td>0.01</td>\n",
       "      <td>0.02</td>\n",
       "      <td>COPD</td>\n",
       "    </tr>\n",
       "    <tr>\n",
       "      <th>3</th>\n",
       "      <td>0.71</td>\n",
       "      <td>0.0924</td>\n",
       "      <td>0.1876</td>\n",
       "      <td>0.01</td>\n",
       "      <td>0.00</td>\n",
       "      <td>COPD</td>\n",
       "    </tr>\n",
       "    <tr>\n",
       "      <th>4</th>\n",
       "      <td>0.43</td>\n",
       "      <td>0.1848</td>\n",
       "      <td>0.3752</td>\n",
       "      <td>0.00</td>\n",
       "      <td>0.01</td>\n",
       "      <td>COPD</td>\n",
       "    </tr>\n",
       "  </tbody>\n",
       "</table>\n",
       "</div>"
      ],
      "text/plain": [
       "   Streptococcus  Veillonella  Prevotella  Pseudomonas  Staphylococcus    CF\n",
       "0           0.69       0.1023      0.2077         0.00            0.00  COPD\n",
       "1           0.66       0.1122      0.2278         0.00            0.00  COPD\n",
       "2           0.74       0.0759      0.1541         0.01            0.02  COPD\n",
       "3           0.71       0.0924      0.1876         0.01            0.00  COPD\n",
       "4           0.43       0.1848      0.3752         0.00            0.01  COPD"
      ]
     },
     "execution_count": 10,
     "metadata": {},
     "output_type": "execute_result"
    }
   ],
   "source": [
    "mic = pd.read_csv('Data/Microbial Data.csv')\n",
    "mic.head()"
   ]
  },
  {
   "cell_type": "code",
   "execution_count": 11,
   "id": "f125bbab",
   "metadata": {},
   "outputs": [
    {
     "data": {
      "text/plain": [
       "<Figure size 1200x800 with 0 Axes>"
      ]
     },
     "metadata": {},
     "output_type": "display_data"
    }
   ],
   "source": [
    "plt.figure(figsize = [12,8])\n",
    "colors = ['cornflowerblue', 'crimson']\n",
    "\n",
    "# plt.show()"
   ]
  },
  {
   "cell_type": "markdown",
   "id": "3fbb982d",
   "metadata": {},
   "source": [
    "Here are a few questions for you about the plot below:  \n",
    "1) What are the axvlines that the keywords seem to be for? Where are they?  \n",
    "2) Which gridlines does plt.grid affect?  \n",
    "3) The Patches that we make for the handles....where do they end up?  \n",
    " "
   ]
  },
  {
   "cell_type": "code",
   "execution_count": 12,
   "id": "9fd846ef",
   "metadata": {},
   "outputs": [
    {
     "data": {
      "text/plain": [
       "<Figure size 1200x800 with 0 Axes>"
      ]
     },
     "metadata": {},
     "output_type": "display_data"
    }
   ],
   "source": [
    "plt.figure(figsize = [12,8])\n",
    "colors = ['cornflowerblue', 'crimson']\n",
    "\n",
    "# How to make a fake legend\n",
    "\n",
    "# plt.savefig('Images/PCP.png',bbox_inches ='tight',facecolor='whitesmoke')\n",
    "# plt.show()"
   ]
  },
  {
   "cell_type": "markdown",
   "id": "d298f005",
   "metadata": {},
   "source": [
    "Let's make a similar plot for the lake data....what's different? What should we change in terms of truthfulness?"
   ]
  },
  {
   "cell_type": "code",
   "execution_count": 13,
   "id": "921ccc58",
   "metadata": {},
   "outputs": [
    {
     "data": {
      "text/plain": [
       "<Figure size 1200x800 with 0 Axes>"
      ]
     },
     "metadata": {},
     "output_type": "display_data"
    }
   ],
   "source": [
    "# lake_subset_2 = lake_subset.copy()\n",
    "# lake_subset_2['Status'] = lake['Status']\n",
    "\n",
    "plt.figure(figsize = [12,8])\n",
    "colors = ['cornflowerblue', 'crimson', 'forestgreen']"
   ]
  },
  {
   "cell_type": "markdown",
   "id": "4da9fdec",
   "metadata": {},
   "source": [
    "## A different approach...and a lot more variables"
   ]
  },
  {
   "cell_type": "code",
   "execution_count": 14,
   "id": "3d9763cc",
   "metadata": {},
   "outputs": [],
   "source": [
    "# A lot more variables...use the digits data\n",
    "from sklearn.decomposition import PCA\n",
    "from sklearn.manifold import TSNE\n",
    "from sklearn.datasets import load_digits"
   ]
  },
  {
   "cell_type": "code",
   "execution_count": 15,
   "id": "1e633bbd",
   "metadata": {},
   "outputs": [],
   "source": [
    "digits = load_digits()\n",
    "# How do we get the data\n",
    "X = digits['data']\n",
    "y = digits['target']"
   ]
  },
  {
   "cell_type": "code",
   "execution_count": 16,
   "id": "6a385776",
   "metadata": {},
   "outputs": [
    {
     "data": {
      "text/plain": [
       "array([ 0.,  0.,  5., 13.,  9.,  1.,  0.,  0.,  0.,  0., 13., 15., 10.,\n",
       "       15.,  5.,  0.,  0.,  3., 15.,  2.,  0., 11.,  8.,  0.,  0.,  4.,\n",
       "       12.,  0.,  0.,  8.,  8.,  0.,  0.,  5.,  8.,  0.,  0.,  9.,  8.,\n",
       "        0.,  0.,  4., 11.,  0.,  1., 12.,  7.,  0.,  0.,  2., 14.,  5.,\n",
       "       10., 12.,  0.,  0.,  0.,  0.,  6., 13., 10.,  0.,  0.,  0.])"
      ]
     },
     "execution_count": 16,
     "metadata": {},
     "output_type": "execute_result"
    }
   ],
   "source": [
    "X[0]"
   ]
  },
  {
   "cell_type": "code",
   "execution_count": 17,
   "id": "12292908",
   "metadata": {},
   "outputs": [
    {
     "data": {
      "text/plain": [
       "array([0, 1, 2, 3, 4, 5, 6, 7, 8, 9, 0, 1, 2, 3, 4, 5, 6, 7, 8, 9])"
      ]
     },
     "execution_count": 17,
     "metadata": {},
     "output_type": "execute_result"
    }
   ],
   "source": [
    "y[0:20]"
   ]
  },
  {
   "cell_type": "code",
   "execution_count": 18,
   "id": "399daca5",
   "metadata": {},
   "outputs": [
    {
     "data": {
      "text/plain": [
       "<Figure size 640x480 with 0 Axes>"
      ]
     },
     "metadata": {},
     "output_type": "display_data"
    },
    {
     "data": {
      "image/png": "[encoded data removed]",
      "text/plain": [
       "<Figure size 480x480 with 1 Axes>"
      ]
     },
     "metadata": {},
     "output_type": "display_data"
    }
   ],
   "source": [
    "plt.gray()\n",
    "select = 0 # Corresopnds to data in X[number]\n",
    "plt.matshow(digits.images[select])\n",
    "plt.show()"
   ]
  },
  {
   "cell_type": "code",
   "execution_count": 19,
   "id": "43db98c2",
   "metadata": {},
   "outputs": [],
   "source": [
    "# Create PCA object\n"
   ]
  },
  {
   "cell_type": "code",
   "execution_count": null,
   "id": "5d2c6fb3",
   "metadata": {},
   "outputs": [],
   "source": []
  },
  {
   "cell_type": "code",
   "execution_count": 20,
   "id": "e0a0b7a7",
   "metadata": {},
   "outputs": [],
   "source": [
    "# Create a Dataframe\n"
   ]
  },
  {
   "cell_type": "code",
   "execution_count": 21,
   "id": "450e2616",
   "metadata": {},
   "outputs": [
    {
     "data": {
      "text/plain": [
       "<Figure size 800x800 with 0 Axes>"
      ]
     },
     "metadata": {},
     "output_type": "display_data"
    }
   ],
   "source": [
    "plt.figure(figsize = [8,8])\n",
    "colors = ['cornflowerblue', 'slategrey', 'lightsalmon',\n",
    "          'violet', 'forestgreen', 'firebrick', 'cyan',\n",
    "         'lawngreen', 'thistle', 'black']\n",
    "\n",
    "# plt.show()"
   ]
  },
  {
   "cell_type": "code",
   "execution_count": 22,
   "id": "0015f6c5",
   "metadata": {},
   "outputs": [],
   "source": [
    "# Create t-SNE object\n"
   ]
  },
  {
   "cell_type": "code",
   "execution_count": null,
   "id": "18f93285",
   "metadata": {},
   "outputs": [],
   "source": []
  },
  {
   "cell_type": "code",
   "execution_count": 23,
   "id": "20c56077",
   "metadata": {},
   "outputs": [],
   "source": [
    "# Create a Dataframe\n"
   ]
  },
  {
   "cell_type": "code",
   "execution_count": 24,
   "id": "412fadc9",
   "metadata": {},
   "outputs": [
    {
     "data": {
      "text/plain": [
       "<Figure size 800x800 with 0 Axes>"
      ]
     },
     "metadata": {},
     "output_type": "display_data"
    }
   ],
   "source": [
    "plt.figure(figsize = [8,8])\n",
    "colors = ['cornflowerblue', 'slategrey', 'lightsalmon',\n",
    "          'violet', 'forestgreen', 'firebrick', 'cyan',\n",
    "         'lawngreen', 'thistle', 'black']\n",
    "\n",
    "# plt.show()"
   ]
  }
 ],
 "metadata": {
  "kernelspec": {
   "display_name": "Python 3 (ipykernel)",
   "language": "python",
   "name": "python3"
  },
  "language_info": {
   "codemirror_mode": {
    "name": "ipython",
    "version": 3
   },
   "file_extension": ".py",
   "mimetype": "text/x-python",
   "name": "python",
   "nbconvert_exporter": "python",
   "pygments_lexer": "ipython3",
   "version": "3.12.4"
  }
 },
 "nbformat": 4,
 "nbformat_minor": 5
}
